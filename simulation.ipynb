{
 "cells": [
  {
   "cell_type": "markdown",
   "id": "bd0fec62-931b-41ce-96b1-2c95ffcc5f25",
   "metadata": {},
   "source": [
    "## References\n",
    "1. Heiss, A. (2020, November 4). The ultimate guide to generating synthetic data for causal inference. Program Evaluation. Retrieved December 11, 2021, from https://evalf20.classes.andrewheiss.com/example/synthetic-data/\n",
    "2. Brownlee, J. (2020, January 10). How to Generate Test Datasets in Python with scikit-learn. Machine Learning Mastery. Retrieved December 11, 2021, from https://machinelearningmastery.com/generate-test-datasets-python-scikit-learn/\n",
    "3. "
   ]
  },
  {
   "cell_type": "markdown",
   "id": "6dd9782c-242a-4e29-9dcb-89c067890247",
   "metadata": {},
   "source": [
    "## End"
   ]
  }
 ],
 "metadata": {
  "kernelspec": {
   "display_name": "Python 3",
   "language": "python",
   "name": "python3"
  },
  "language_info": {
   "codemirror_mode": {
    "name": "ipython",
    "version": 3
   },
   "file_extension": ".py",
   "mimetype": "text/x-python",
   "name": "python",
   "nbconvert_exporter": "python",
   "pygments_lexer": "ipython3",
   "version": "3.8.8"
  }
 },
 "nbformat": 4,
 "nbformat_minor": 5
}
