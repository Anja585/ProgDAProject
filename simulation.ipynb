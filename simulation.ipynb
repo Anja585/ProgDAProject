{
 "cells": [
  {
   "cell_type": "markdown",
   "id": "8316dd85-7777-486d-bc39-19bc69cb639c",
   "metadata": {},
   "source": [
    "# Success of The Office episodes"
   ]
  },
  {
   "cell_type": "code",
   "execution_count": 1,
   "id": "df1a3d56-ee9c-402a-bc50-a5081d2b6a90",
   "metadata": {},
   "outputs": [],
   "source": [
    "# for dataframes\n",
    "import pandas as pd\n",
    "# for visualization\n",
    "import matplotlib.pyplot as plt\n",
    "# for numerical arrays \n",
    "import numpy as np"
   ]
  },
  {
   "cell_type": "markdown",
   "id": "9c9ccf2c-058f-4825-94a7-ab28f7ae5083",
   "metadata": {},
   "source": [
    "**The data for the analysis was collected from [Kaggle](https://www.kaggle.com/) website.** [[3, 4 & 5]](#References)"
   ]
  },
  {
   "cell_type": "code",
   "execution_count": 2,
   "id": "9295b166-a88b-480f-8bfc-4e9c7d8df7a0",
   "metadata": {},
   "outputs": [],
   "source": [
    "office_episodes = pd.read_csv(\"the_office_episodes.csv\")\n",
    "office_imdb = pd.read_csv(\"the_office_imdb.csv\")\n",
    "office_series = pd.read_csv(\"the_office_series.csv\")\n",
    "office_lines = pd.read_csv(\"The-Office-Lines-V4.csv\")"
   ]
  },
  {
   "cell_type": "markdown",
   "id": "bd0fec62-931b-41ce-96b1-2c95ffcc5f25",
   "metadata": {},
   "source": [
    "## References\n",
    "1. Heiss, A. (2020, November 4). The ultimate guide to generating synthetic data for causal inference. Program Evaluation. Retrieved December 11, 2021, from https://evalf20.classes.andrewheiss.com/example/synthetic-data/\n",
    "2. Brownlee, J. (2020, January 10). How to Generate Test Datasets in Python with scikit-learn. Machine Learning Mastery. Retrieved December 11, 2021, from https://machinelearningmastery.com/generate-test-datasets-python-scikit-learn/\n",
    "3. The Office Dataset. (2020, September 8). Kaggle. Retrieved December 12, 2021, from https://www.kaggle.com/nehaprabhavalkar/the-office-dataset\n",
    "4. The Office (US) - Complete Dialogue/Transcript. (2021, January 18). Kaggle. Retrieved December 12, 2021, from https://www.kaggle.com/nasirkhalid24/the-office-us-complete-dialoguetranscript\n",
    "5. The Office Episodes Data. (2021, November 8). Kaggle. Retrieved December 12, 2021, from https://www.kaggle.com/bcruise/the-office-episodes-data"
   ]
  },
  {
   "cell_type": "markdown",
   "id": "6dd9782c-242a-4e29-9dcb-89c067890247",
   "metadata": {},
   "source": [
    "## End"
   ]
  }
 ],
 "metadata": {
  "kernelspec": {
   "display_name": "Python 3",
   "language": "python",
   "name": "python3"
  },
  "language_info": {
   "codemirror_mode": {
    "name": "ipython",
    "version": 3
   },
   "file_extension": ".py",
   "mimetype": "text/x-python",
   "name": "python",
   "nbconvert_exporter": "python",
   "pygments_lexer": "ipython3",
   "version": "3.8.8"
  }
 },
 "nbformat": 4,
 "nbformat_minor": 5
}
