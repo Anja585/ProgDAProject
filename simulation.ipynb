{
 "cells": [
  {
   "cell_type": "markdown",
   "id": "8316dd85-7777-486d-bc39-19bc69cb639c",
   "metadata": {},
   "source": [
    "# Success of The Office episodes"
   ]
  },
  {
   "cell_type": "code",
   "execution_count": 1,
   "id": "df1a3d56-ee9c-402a-bc50-a5081d2b6a90",
   "metadata": {},
   "outputs": [],
   "source": [
    "# for dataframes\n",
    "import pandas as pd\n",
    "# for visualization\n",
    "import matplotlib.pyplot as plt\n",
    "# for numerical arrays \n",
    "import numpy as np\n",
    "# for linear models\n",
    "from sklearn.linear_model import LinearRegression\n",
    "# for normalizing data \n",
    "from sklearn.preprocessing import MinMaxScaler"
   ]
  },
  {
   "cell_type": "markdown",
   "id": "9c9ccf2c-058f-4825-94a7-ab28f7ae5083",
   "metadata": {},
   "source": [
    "**The data for the analysis was collected from [Kaggle](https://www.kaggle.com/) website.** [[3, 4 & 5]](#References)"
   ]
  },
  {
   "cell_type": "code",
   "execution_count": 2,
   "id": "9295b166-a88b-480f-8bfc-4e9c7d8df7a0",
   "metadata": {},
   "outputs": [],
   "source": [
    "office_episodes = pd.read_csv(\"the_office_episodes.csv\")\n",
    "office_imdb = pd.read_csv(\"the_office_imdb.csv\")\n",
    "office_series = pd.read_csv(\"the_office_series.csv\")\n",
    "office_lines = pd.read_csv(\"The-Office-Lines-V4.csv\")"
   ]
  },
  {
   "cell_type": "markdown",
   "id": "657780e9",
   "metadata": {},
   "source": [
    "## Investigating the dataframes"
   ]
  },
  {
   "cell_type": "code",
   "execution_count": 3,
   "id": "ef249478-f134-4edb-9ff8-ff5dbbdd97b4",
   "metadata": {},
   "outputs": [
    {
     "data": {
      "text/html": [
       "<div>\n",
       "<style scoped>\n",
       "    .dataframe tbody tr th:only-of-type {\n",
       "        vertical-align: middle;\n",
       "    }\n",
       "\n",
       "    .dataframe tbody tr th {\n",
       "        vertical-align: top;\n",
       "    }\n",
       "\n",
       "    .dataframe thead th {\n",
       "        text-align: right;\n",
       "    }\n",
       "</style>\n",
       "<table border=\"1\" class=\"dataframe\">\n",
       "  <thead>\n",
       "    <tr style=\"text-align: right;\">\n",
       "      <th></th>\n",
       "      <th>season</th>\n",
       "      <th>episode_num_in_season</th>\n",
       "      <th>episode_num_overall</th>\n",
       "      <th>title</th>\n",
       "      <th>directed_by</th>\n",
       "      <th>written_by</th>\n",
       "      <th>original_air_date</th>\n",
       "      <th>prod_code</th>\n",
       "      <th>us_viewers</th>\n",
       "    </tr>\n",
       "  </thead>\n",
       "  <tbody>\n",
       "    <tr>\n",
       "      <th>0</th>\n",
       "      <td>1</td>\n",
       "      <td>1</td>\n",
       "      <td>1</td>\n",
       "      <td>Pilot</td>\n",
       "      <td>Ken Kwapis</td>\n",
       "      <td>Ricky Gervais &amp; Stephen Merchant and Greg Daniels</td>\n",
       "      <td>2005-03-24</td>\n",
       "      <td>1001</td>\n",
       "      <td>11200000.0</td>\n",
       "    </tr>\n",
       "    <tr>\n",
       "      <th>1</th>\n",
       "      <td>1</td>\n",
       "      <td>2</td>\n",
       "      <td>2</td>\n",
       "      <td>Diversity Day</td>\n",
       "      <td>Ken Kwapis</td>\n",
       "      <td>B. J. Novak</td>\n",
       "      <td>2005-03-29</td>\n",
       "      <td>1002</td>\n",
       "      <td>6000000.0</td>\n",
       "    </tr>\n",
       "    <tr>\n",
       "      <th>2</th>\n",
       "      <td>1</td>\n",
       "      <td>3</td>\n",
       "      <td>3</td>\n",
       "      <td>Health Care</td>\n",
       "      <td>Ken Whittingham</td>\n",
       "      <td>Paul Lieberstein</td>\n",
       "      <td>2005-04-05</td>\n",
       "      <td>1006</td>\n",
       "      <td>5800000.0</td>\n",
       "    </tr>\n",
       "    <tr>\n",
       "      <th>3</th>\n",
       "      <td>1</td>\n",
       "      <td>4</td>\n",
       "      <td>4</td>\n",
       "      <td>The Alliance</td>\n",
       "      <td>Bryan Gordon</td>\n",
       "      <td>Michael Schur</td>\n",
       "      <td>2005-04-12</td>\n",
       "      <td>1004</td>\n",
       "      <td>5400000.0</td>\n",
       "    </tr>\n",
       "    <tr>\n",
       "      <th>4</th>\n",
       "      <td>1</td>\n",
       "      <td>5</td>\n",
       "      <td>5</td>\n",
       "      <td>Basketball</td>\n",
       "      <td>Greg Daniels</td>\n",
       "      <td>Greg Daniels</td>\n",
       "      <td>2005-04-19</td>\n",
       "      <td>1005</td>\n",
       "      <td>5000000.0</td>\n",
       "    </tr>\n",
       "  </tbody>\n",
       "</table>\n",
       "</div>"
      ],
      "text/plain": [
       "   season  episode_num_in_season  episode_num_overall          title  \\\n",
       "0       1                      1                    1          Pilot   \n",
       "1       1                      2                    2  Diversity Day   \n",
       "2       1                      3                    3    Health Care   \n",
       "3       1                      4                    4   The Alliance   \n",
       "4       1                      5                    5     Basketball   \n",
       "\n",
       "       directed_by                                         written_by  \\\n",
       "0       Ken Kwapis  Ricky Gervais & Stephen Merchant and Greg Daniels   \n",
       "1       Ken Kwapis                                        B. J. Novak   \n",
       "2  Ken Whittingham                                   Paul Lieberstein   \n",
       "3     Bryan Gordon                                      Michael Schur   \n",
       "4     Greg Daniels                                       Greg Daniels   \n",
       "\n",
       "  original_air_date  prod_code  us_viewers  \n",
       "0        2005-03-24       1001  11200000.0  \n",
       "1        2005-03-29       1002   6000000.0  \n",
       "2        2005-04-05       1006   5800000.0  \n",
       "3        2005-04-12       1004   5400000.0  \n",
       "4        2005-04-19       1005   5000000.0  "
      ]
     },
     "execution_count": 3,
     "metadata": {},
     "output_type": "execute_result"
    }
   ],
   "source": [
    "# printing out the dataframe\n",
    "office_episodes.head(5)"
   ]
  },
  {
   "cell_type": "code",
   "execution_count": 4,
   "id": "9ca61ca2-b335-4411-818d-18fade076b61",
   "metadata": {},
   "outputs": [
    {
     "data": {
      "text/html": [
       "<div>\n",
       "<style scoped>\n",
       "    .dataframe tbody tr th:only-of-type {\n",
       "        vertical-align: middle;\n",
       "    }\n",
       "\n",
       "    .dataframe tbody tr th {\n",
       "        vertical-align: top;\n",
       "    }\n",
       "\n",
       "    .dataframe thead th {\n",
       "        text-align: right;\n",
       "    }\n",
       "</style>\n",
       "<table border=\"1\" class=\"dataframe\">\n",
       "  <thead>\n",
       "    <tr style=\"text-align: right;\">\n",
       "      <th></th>\n",
       "      <th>season</th>\n",
       "      <th>episode_num</th>\n",
       "      <th>title</th>\n",
       "      <th>original_air_date</th>\n",
       "      <th>imdb_rating</th>\n",
       "      <th>total_votes</th>\n",
       "      <th>desc</th>\n",
       "    </tr>\n",
       "  </thead>\n",
       "  <tbody>\n",
       "    <tr>\n",
       "      <th>0</th>\n",
       "      <td>1</td>\n",
       "      <td>1</td>\n",
       "      <td>Pilot</td>\n",
       "      <td>2005-03-24</td>\n",
       "      <td>7.4</td>\n",
       "      <td>7006</td>\n",
       "      <td>The premiere episode introduces the boss and s...</td>\n",
       "    </tr>\n",
       "    <tr>\n",
       "      <th>1</th>\n",
       "      <td>1</td>\n",
       "      <td>2</td>\n",
       "      <td>Diversity Day</td>\n",
       "      <td>2005-03-29</td>\n",
       "      <td>8.3</td>\n",
       "      <td>6902</td>\n",
       "      <td>Michael's off color remark puts a sensitivity ...</td>\n",
       "    </tr>\n",
       "    <tr>\n",
       "      <th>2</th>\n",
       "      <td>1</td>\n",
       "      <td>3</td>\n",
       "      <td>Health Care</td>\n",
       "      <td>2005-04-05</td>\n",
       "      <td>7.7</td>\n",
       "      <td>5756</td>\n",
       "      <td>Michael leaves Dwight in charge of picking the...</td>\n",
       "    </tr>\n",
       "    <tr>\n",
       "      <th>3</th>\n",
       "      <td>1</td>\n",
       "      <td>4</td>\n",
       "      <td>The Alliance</td>\n",
       "      <td>2005-04-12</td>\n",
       "      <td>8.0</td>\n",
       "      <td>5579</td>\n",
       "      <td>Just for a laugh, Jim agrees to an alliance wi...</td>\n",
       "    </tr>\n",
       "    <tr>\n",
       "      <th>4</th>\n",
       "      <td>1</td>\n",
       "      <td>5</td>\n",
       "      <td>Basketball</td>\n",
       "      <td>2005-04-19</td>\n",
       "      <td>8.4</td>\n",
       "      <td>6183</td>\n",
       "      <td>Michael and his staff challenge the warehouse ...</td>\n",
       "    </tr>\n",
       "  </tbody>\n",
       "</table>\n",
       "</div>"
      ],
      "text/plain": [
       "   season  episode_num          title original_air_date  imdb_rating  \\\n",
       "0       1            1          Pilot        2005-03-24          7.4   \n",
       "1       1            2  Diversity Day        2005-03-29          8.3   \n",
       "2       1            3    Health Care        2005-04-05          7.7   \n",
       "3       1            4   The Alliance        2005-04-12          8.0   \n",
       "4       1            5     Basketball        2005-04-19          8.4   \n",
       "\n",
       "   total_votes                                               desc  \n",
       "0         7006  The premiere episode introduces the boss and s...  \n",
       "1         6902  Michael's off color remark puts a sensitivity ...  \n",
       "2         5756  Michael leaves Dwight in charge of picking the...  \n",
       "3         5579  Just for a laugh, Jim agrees to an alliance wi...  \n",
       "4         6183  Michael and his staff challenge the warehouse ...  "
      ]
     },
     "execution_count": 4,
     "metadata": {},
     "output_type": "execute_result"
    }
   ],
   "source": [
    "# printing out the dataframe\n",
    "office_imdb.head(5)"
   ]
  },
  {
   "cell_type": "code",
   "execution_count": 5,
   "id": "26ccab99",
   "metadata": {
    "scrolled": true,
    "tags": []
   },
   "outputs": [
    {
     "data": {
      "text/html": [
       "<div>\n",
       "<style scoped>\n",
       "    .dataframe tbody tr th:only-of-type {\n",
       "        vertical-align: middle;\n",
       "    }\n",
       "\n",
       "    .dataframe tbody tr th {\n",
       "        vertical-align: top;\n",
       "    }\n",
       "\n",
       "    .dataframe thead th {\n",
       "        text-align: right;\n",
       "    }\n",
       "</style>\n",
       "<table border=\"1\" class=\"dataframe\">\n",
       "  <thead>\n",
       "    <tr style=\"text-align: right;\">\n",
       "      <th></th>\n",
       "      <th>Unnamed: 0</th>\n",
       "      <th>Season</th>\n",
       "      <th>EpisodeTitle</th>\n",
       "      <th>About</th>\n",
       "      <th>Ratings</th>\n",
       "      <th>Votes</th>\n",
       "      <th>Viewership</th>\n",
       "      <th>Duration</th>\n",
       "      <th>Date</th>\n",
       "      <th>GuestStars</th>\n",
       "      <th>Director</th>\n",
       "      <th>Writers</th>\n",
       "    </tr>\n",
       "  </thead>\n",
       "  <tbody>\n",
       "    <tr>\n",
       "      <th>0</th>\n",
       "      <td>0</td>\n",
       "      <td>1</td>\n",
       "      <td>Pilot</td>\n",
       "      <td>The premiere episode introduces the boss and s...</td>\n",
       "      <td>7.5</td>\n",
       "      <td>4936</td>\n",
       "      <td>11.2</td>\n",
       "      <td>23</td>\n",
       "      <td>24 March 2005</td>\n",
       "      <td>NaN</td>\n",
       "      <td>Ken Kwapis</td>\n",
       "      <td>Ricky Gervais |Stephen Merchant and Greg Daniels</td>\n",
       "    </tr>\n",
       "    <tr>\n",
       "      <th>1</th>\n",
       "      <td>1</td>\n",
       "      <td>1</td>\n",
       "      <td>Diversity Day</td>\n",
       "      <td>Michael's off color remark puts a sensitivity ...</td>\n",
       "      <td>8.3</td>\n",
       "      <td>4801</td>\n",
       "      <td>6.0</td>\n",
       "      <td>23</td>\n",
       "      <td>29 March 2005</td>\n",
       "      <td>NaN</td>\n",
       "      <td>Ken Kwapis</td>\n",
       "      <td>B. J. Novak</td>\n",
       "    </tr>\n",
       "    <tr>\n",
       "      <th>2</th>\n",
       "      <td>2</td>\n",
       "      <td>1</td>\n",
       "      <td>Health Care</td>\n",
       "      <td>Michael leaves Dwight in charge of picking the...</td>\n",
       "      <td>7.8</td>\n",
       "      <td>4024</td>\n",
       "      <td>5.8</td>\n",
       "      <td>22</td>\n",
       "      <td>5 April 2005</td>\n",
       "      <td>NaN</td>\n",
       "      <td>Ken Whittingham</td>\n",
       "      <td>Paul Lieberstein</td>\n",
       "    </tr>\n",
       "    <tr>\n",
       "      <th>3</th>\n",
       "      <td>3</td>\n",
       "      <td>1</td>\n",
       "      <td>The Alliance</td>\n",
       "      <td>Just for a laugh, Jim agrees to an alliance wi...</td>\n",
       "      <td>8.1</td>\n",
       "      <td>3915</td>\n",
       "      <td>5.4</td>\n",
       "      <td>23</td>\n",
       "      <td>12 April 2005</td>\n",
       "      <td>NaN</td>\n",
       "      <td>Bryan Gordon</td>\n",
       "      <td>Michael Schur</td>\n",
       "    </tr>\n",
       "    <tr>\n",
       "      <th>4</th>\n",
       "      <td>4</td>\n",
       "      <td>1</td>\n",
       "      <td>Basketball</td>\n",
       "      <td>Michael and his staff challenge the warehouse ...</td>\n",
       "      <td>8.4</td>\n",
       "      <td>4294</td>\n",
       "      <td>5.0</td>\n",
       "      <td>23</td>\n",
       "      <td>19 April 2005</td>\n",
       "      <td>NaN</td>\n",
       "      <td>Greg Daniels</td>\n",
       "      <td>Greg Daniels</td>\n",
       "    </tr>\n",
       "  </tbody>\n",
       "</table>\n",
       "</div>"
      ],
      "text/plain": [
       "   Unnamed: 0  Season   EpisodeTitle  \\\n",
       "0           0       1          Pilot   \n",
       "1           1       1  Diversity Day   \n",
       "2           2       1    Health Care   \n",
       "3           3       1   The Alliance   \n",
       "4           4       1     Basketball   \n",
       "\n",
       "                                               About  Ratings  Votes  \\\n",
       "0  The premiere episode introduces the boss and s...      7.5   4936   \n",
       "1  Michael's off color remark puts a sensitivity ...      8.3   4801   \n",
       "2  Michael leaves Dwight in charge of picking the...      7.8   4024   \n",
       "3  Just for a laugh, Jim agrees to an alliance wi...      8.1   3915   \n",
       "4  Michael and his staff challenge the warehouse ...      8.4   4294   \n",
       "\n",
       "   Viewership  Duration            Date GuestStars         Director  \\\n",
       "0        11.2        23   24 March 2005        NaN       Ken Kwapis   \n",
       "1         6.0        23   29 March 2005        NaN       Ken Kwapis   \n",
       "2         5.8        22    5 April 2005        NaN  Ken Whittingham   \n",
       "3         5.4        23   12 April 2005        NaN     Bryan Gordon   \n",
       "4         5.0        23   19 April 2005        NaN     Greg Daniels   \n",
       "\n",
       "                                            Writers  \n",
       "0  Ricky Gervais |Stephen Merchant and Greg Daniels  \n",
       "1                                       B. J. Novak  \n",
       "2                                  Paul Lieberstein  \n",
       "3                                     Michael Schur  \n",
       "4                                      Greg Daniels  "
      ]
     },
     "execution_count": 5,
     "metadata": {},
     "output_type": "execute_result"
    }
   ],
   "source": [
    "# printing out the dataframe\n",
    "office_series.head(5)"
   ]
  },
  {
   "cell_type": "markdown",
   "id": "e1f42658",
   "metadata": {},
   "source": [
    "I am deciding not to use office_episodes dataframe in the research since all the data are available in office_imdb and office_series dataframes. "
   ]
  },
  {
   "cell_type": "code",
   "execution_count": 6,
   "id": "087bb5b7-9062-4335-80f6-c6393f08c1de",
   "metadata": {
    "scrolled": true,
    "tags": []
   },
   "outputs": [
    {
     "data": {
      "text/html": [
       "<div>\n",
       "<style scoped>\n",
       "    .dataframe tbody tr th:only-of-type {\n",
       "        vertical-align: middle;\n",
       "    }\n",
       "\n",
       "    .dataframe tbody tr th {\n",
       "        vertical-align: top;\n",
       "    }\n",
       "\n",
       "    .dataframe thead th {\n",
       "        text-align: right;\n",
       "    }\n",
       "</style>\n",
       "<table border=\"1\" class=\"dataframe\">\n",
       "  <thead>\n",
       "    <tr style=\"text-align: right;\">\n",
       "      <th></th>\n",
       "      <th>season</th>\n",
       "      <th>episode</th>\n",
       "      <th>title</th>\n",
       "      <th>scene</th>\n",
       "      <th>speaker</th>\n",
       "      <th>line</th>\n",
       "      <th>Unnamed: 6</th>\n",
       "    </tr>\n",
       "  </thead>\n",
       "  <tbody>\n",
       "    <tr>\n",
       "      <th>0</th>\n",
       "      <td>1</td>\n",
       "      <td>1</td>\n",
       "      <td>Pilot</td>\n",
       "      <td>1</td>\n",
       "      <td>Michael</td>\n",
       "      <td>All right Jim. Your quarterlies look very good...</td>\n",
       "      <td>NaN</td>\n",
       "    </tr>\n",
       "    <tr>\n",
       "      <th>1</th>\n",
       "      <td>1</td>\n",
       "      <td>1</td>\n",
       "      <td>Pilot</td>\n",
       "      <td>1</td>\n",
       "      <td>Jim</td>\n",
       "      <td>Oh, I told you. I couldn't close it. So...</td>\n",
       "      <td>NaN</td>\n",
       "    </tr>\n",
       "    <tr>\n",
       "      <th>2</th>\n",
       "      <td>1</td>\n",
       "      <td>1</td>\n",
       "      <td>Pilot</td>\n",
       "      <td>1</td>\n",
       "      <td>Michael</td>\n",
       "      <td>So you've come to the master for guidance? Is ...</td>\n",
       "      <td>NaN</td>\n",
       "    </tr>\n",
       "    <tr>\n",
       "      <th>3</th>\n",
       "      <td>1</td>\n",
       "      <td>1</td>\n",
       "      <td>Pilot</td>\n",
       "      <td>1</td>\n",
       "      <td>Jim</td>\n",
       "      <td>Actually, you called me in here, but yeah.</td>\n",
       "      <td>NaN</td>\n",
       "    </tr>\n",
       "    <tr>\n",
       "      <th>4</th>\n",
       "      <td>1</td>\n",
       "      <td>1</td>\n",
       "      <td>Pilot</td>\n",
       "      <td>1</td>\n",
       "      <td>Michael</td>\n",
       "      <td>All right. Well, let me show you how it's done.</td>\n",
       "      <td>NaN</td>\n",
       "    </tr>\n",
       "  </tbody>\n",
       "</table>\n",
       "</div>"
      ],
      "text/plain": [
       "   season  episode  title  scene  speaker  \\\n",
       "0       1        1  Pilot      1  Michael   \n",
       "1       1        1  Pilot      1      Jim   \n",
       "2       1        1  Pilot      1  Michael   \n",
       "3       1        1  Pilot      1      Jim   \n",
       "4       1        1  Pilot      1  Michael   \n",
       "\n",
       "                                                line Unnamed: 6  \n",
       "0  All right Jim. Your quarterlies look very good...        NaN  \n",
       "1         Oh, I told you. I couldn't close it. So...        NaN  \n",
       "2  So you've come to the master for guidance? Is ...        NaN  \n",
       "3         Actually, you called me in here, but yeah.        NaN  \n",
       "4    All right. Well, let me show you how it's done.        NaN  "
      ]
     },
     "execution_count": 6,
     "metadata": {},
     "output_type": "execute_result"
    }
   ],
   "source": [
    "# printing the dataframe\n",
    "office_lines.head(5)"
   ]
  },
  {
   "cell_type": "code",
   "execution_count": 7,
   "id": "fb6000d1-8553-42a1-baa9-cf4375a7d05d",
   "metadata": {
    "scrolled": true,
    "tags": []
   },
   "outputs": [
    {
     "data": {
      "text/html": [
       "<div>\n",
       "<style scoped>\n",
       "    .dataframe tbody tr th:only-of-type {\n",
       "        vertical-align: middle;\n",
       "    }\n",
       "\n",
       "    .dataframe tbody tr th {\n",
       "        vertical-align: top;\n",
       "    }\n",
       "\n",
       "    .dataframe thead th {\n",
       "        text-align: right;\n",
       "    }\n",
       "</style>\n",
       "<table border=\"1\" class=\"dataframe\">\n",
       "  <thead>\n",
       "    <tr style=\"text-align: right;\">\n",
       "      <th></th>\n",
       "      <th>season</th>\n",
       "      <th>episode</th>\n",
       "      <th>title</th>\n",
       "      <th>scene</th>\n",
       "      <th>speaker</th>\n",
       "      <th>line</th>\n",
       "      <th>Unnamed: 6</th>\n",
       "    </tr>\n",
       "  </thead>\n",
       "  <tbody>\n",
       "    <tr>\n",
       "      <th>0</th>\n",
       "      <td>1</td>\n",
       "      <td>1</td>\n",
       "      <td>Pilot</td>\n",
       "      <td>1</td>\n",
       "      <td>Michael</td>\n",
       "      <td>All right Jim. Your quarterlies look very good...</td>\n",
       "      <td>NaN</td>\n",
       "    </tr>\n",
       "    <tr>\n",
       "      <th>2</th>\n",
       "      <td>1</td>\n",
       "      <td>1</td>\n",
       "      <td>Pilot</td>\n",
       "      <td>1</td>\n",
       "      <td>Michael</td>\n",
       "      <td>So you've come to the master for guidance? Is ...</td>\n",
       "      <td>NaN</td>\n",
       "    </tr>\n",
       "    <tr>\n",
       "      <th>4</th>\n",
       "      <td>1</td>\n",
       "      <td>1</td>\n",
       "      <td>Pilot</td>\n",
       "      <td>1</td>\n",
       "      <td>Michael</td>\n",
       "      <td>All right. Well, let me show you how it's done.</td>\n",
       "      <td>NaN</td>\n",
       "    </tr>\n",
       "    <tr>\n",
       "      <th>5</th>\n",
       "      <td>1</td>\n",
       "      <td>1</td>\n",
       "      <td>Pilot</td>\n",
       "      <td>2</td>\n",
       "      <td>Michael</td>\n",
       "      <td>Yes, I'd like to speak to your office manager...</td>\n",
       "      <td>NaN</td>\n",
       "    </tr>\n",
       "    <tr>\n",
       "      <th>6</th>\n",
       "      <td>1</td>\n",
       "      <td>1</td>\n",
       "      <td>Pilot</td>\n",
       "      <td>3</td>\n",
       "      <td>Michael</td>\n",
       "      <td>I've, uh, I've been at Dunder Mifflin for 12 y...</td>\n",
       "      <td>NaN</td>\n",
       "    </tr>\n",
       "    <tr>\n",
       "      <th>8</th>\n",
       "      <td>1</td>\n",
       "      <td>1</td>\n",
       "      <td>Pilot</td>\n",
       "      <td>3</td>\n",
       "      <td>Michael</td>\n",
       "      <td>If you think she's cute now, you should have s...</td>\n",
       "      <td>NaN</td>\n",
       "    </tr>\n",
       "    <tr>\n",
       "      <th>10</th>\n",
       "      <td>1</td>\n",
       "      <td>1</td>\n",
       "      <td>Pilot</td>\n",
       "      <td>3</td>\n",
       "      <td>Michael</td>\n",
       "      <td>Any messages?</td>\n",
       "      <td>NaN</td>\n",
       "    </tr>\n",
       "    <tr>\n",
       "      <th>12</th>\n",
       "      <td>1</td>\n",
       "      <td>1</td>\n",
       "      <td>Pilot</td>\n",
       "      <td>3</td>\n",
       "      <td>Michael</td>\n",
       "      <td>Oh! Pam, this is from Corporate. How many time...</td>\n",
       "      <td>NaN</td>\n",
       "    </tr>\n",
       "    <tr>\n",
       "      <th>14</th>\n",
       "      <td>1</td>\n",
       "      <td>1</td>\n",
       "      <td>Pilot</td>\n",
       "      <td>3</td>\n",
       "      <td>Michael</td>\n",
       "      <td>It's called the wastepaper basket! Look at tha...</td>\n",
       "      <td>NaN</td>\n",
       "    </tr>\n",
       "    <tr>\n",
       "      <th>15</th>\n",
       "      <td>1</td>\n",
       "      <td>1</td>\n",
       "      <td>Pilot</td>\n",
       "      <td>4</td>\n",
       "      <td>Michael</td>\n",
       "      <td>People say I am the best boss. They go, \"God w...</td>\n",
       "      <td>NaN</td>\n",
       "    </tr>\n",
       "  </tbody>\n",
       "</table>\n",
       "</div>"
      ],
      "text/plain": [
       "    season  episode  title  scene  speaker  \\\n",
       "0        1        1  Pilot      1  Michael   \n",
       "2        1        1  Pilot      1  Michael   \n",
       "4        1        1  Pilot      1  Michael   \n",
       "5        1        1  Pilot      2  Michael   \n",
       "6        1        1  Pilot      3  Michael   \n",
       "8        1        1  Pilot      3  Michael   \n",
       "10       1        1  Pilot      3  Michael   \n",
       "12       1        1  Pilot      3  Michael   \n",
       "14       1        1  Pilot      3  Michael   \n",
       "15       1        1  Pilot      4  Michael   \n",
       "\n",
       "                                                 line Unnamed: 6  \n",
       "0   All right Jim. Your quarterlies look very good...        NaN  \n",
       "2   So you've come to the master for guidance? Is ...        NaN  \n",
       "4     All right. Well, let me show you how it's done.        NaN  \n",
       "5    Yes, I'd like to speak to your office manager...        NaN  \n",
       "6   I've, uh, I've been at Dunder Mifflin for 12 y...        NaN  \n",
       "8   If you think she's cute now, you should have s...        NaN  \n",
       "10                                      Any messages?        NaN  \n",
       "12  Oh! Pam, this is from Corporate. How many time...        NaN  \n",
       "14  It's called the wastepaper basket! Look at tha...        NaN  \n",
       "15  People say I am the best boss. They go, \"God w...        NaN  "
      ]
     },
     "execution_count": 7,
     "metadata": {},
     "output_type": "execute_result"
    }
   ],
   "source": [
    "# episodes in which Michael has a line \n",
    "michael_in = office_lines[office_lines['speaker'] == 'Michael']\n",
    "michael_in.head(10)"
   ]
  },
  {
   "cell_type": "code",
   "execution_count": 8,
   "id": "8273e785-9ecb-4c24-b4bd-ce3f3ae91dc3",
   "metadata": {},
   "outputs": [
    {
     "data": {
      "text/html": [
       "<div>\n",
       "<style scoped>\n",
       "    .dataframe tbody tr th:only-of-type {\n",
       "        vertical-align: middle;\n",
       "    }\n",
       "\n",
       "    .dataframe tbody tr th {\n",
       "        vertical-align: top;\n",
       "    }\n",
       "\n",
       "    .dataframe thead th {\n",
       "        text-align: right;\n",
       "    }\n",
       "</style>\n",
       "<table border=\"1\" class=\"dataframe\">\n",
       "  <thead>\n",
       "    <tr style=\"text-align: right;\">\n",
       "      <th></th>\n",
       "      <th>season</th>\n",
       "      <th>episode</th>\n",
       "      <th>count_lines</th>\n",
       "    </tr>\n",
       "  </thead>\n",
       "  <tbody>\n",
       "    <tr>\n",
       "      <th>0</th>\n",
       "      <td>1</td>\n",
       "      <td>1</td>\n",
       "      <td>81</td>\n",
       "    </tr>\n",
       "    <tr>\n",
       "      <th>1</th>\n",
       "      <td>1</td>\n",
       "      <td>2</td>\n",
       "      <td>75</td>\n",
       "    </tr>\n",
       "    <tr>\n",
       "      <th>2</th>\n",
       "      <td>1</td>\n",
       "      <td>3</td>\n",
       "      <td>55</td>\n",
       "    </tr>\n",
       "    <tr>\n",
       "      <th>3</th>\n",
       "      <td>1</td>\n",
       "      <td>4</td>\n",
       "      <td>68</td>\n",
       "    </tr>\n",
       "    <tr>\n",
       "      <th>4</th>\n",
       "      <td>1</td>\n",
       "      <td>5</td>\n",
       "      <td>104</td>\n",
       "    </tr>\n",
       "  </tbody>\n",
       "</table>\n",
       "</div>"
      ],
      "text/plain": [
       "   season  episode  count_lines\n",
       "0       1        1           81\n",
       "1       1        2           75\n",
       "2       1        3           55\n",
       "3       1        4           68\n",
       "4       1        5          104"
      ]
     },
     "execution_count": 8,
     "metadata": {},
     "output_type": "execute_result"
    }
   ],
   "source": [
    "# seasons and episodes in which Michael has a line\n",
    "michael_in = michael_in[['season', 'episode']].groupby(['season', 'episode']).size().reset_index(name='count_lines')\n",
    "michael_in.head(5)"
   ]
  },
  {
   "cell_type": "code",
   "execution_count": 9,
   "id": "3ed4eb5d-2d42-4c70-918d-8b9feeb57383",
   "metadata": {},
   "outputs": [
    {
     "data": {
      "text/html": [
       "<div>\n",
       "<style scoped>\n",
       "    .dataframe tbody tr th:only-of-type {\n",
       "        vertical-align: middle;\n",
       "    }\n",
       "\n",
       "    .dataframe tbody tr th {\n",
       "        vertical-align: top;\n",
       "    }\n",
       "\n",
       "    .dataframe thead th {\n",
       "        text-align: right;\n",
       "    }\n",
       "</style>\n",
       "<table border=\"1\" class=\"dataframe\">\n",
       "  <thead>\n",
       "    <tr style=\"text-align: right;\">\n",
       "      <th></th>\n",
       "      <th>season</th>\n",
       "      <th>episode_num</th>\n",
       "      <th>Michael_in</th>\n",
       "    </tr>\n",
       "  </thead>\n",
       "  <tbody>\n",
       "    <tr>\n",
       "      <th>0</th>\n",
       "      <td>1</td>\n",
       "      <td>1</td>\n",
       "      <td>Yes</td>\n",
       "    </tr>\n",
       "    <tr>\n",
       "      <th>1</th>\n",
       "      <td>1</td>\n",
       "      <td>2</td>\n",
       "      <td>Yes</td>\n",
       "    </tr>\n",
       "    <tr>\n",
       "      <th>2</th>\n",
       "      <td>1</td>\n",
       "      <td>3</td>\n",
       "      <td>Yes</td>\n",
       "    </tr>\n",
       "    <tr>\n",
       "      <th>3</th>\n",
       "      <td>1</td>\n",
       "      <td>4</td>\n",
       "      <td>Yes</td>\n",
       "    </tr>\n",
       "    <tr>\n",
       "      <th>4</th>\n",
       "      <td>1</td>\n",
       "      <td>5</td>\n",
       "      <td>Yes</td>\n",
       "    </tr>\n",
       "  </tbody>\n",
       "</table>\n",
       "</div>"
      ],
      "text/plain": [
       "   season  episode_num Michael_in\n",
       "0       1            1        Yes\n",
       "1       1            2        Yes\n",
       "2       1            3        Yes\n",
       "3       1            4        Yes\n",
       "4       1            5        Yes"
      ]
     },
     "execution_count": 9,
     "metadata": {},
     "output_type": "execute_result"
    }
   ],
   "source": [
    "# adding new column \n",
    "michael_in['Michael_in'] = 'Yes'\n",
    "# rename the column\n",
    "michael_in = michael_in.rename(columns = {'episode':'episode_num'})\n",
    "# selecting the relevant columns\n",
    "michael_in = michael_in[['season', 'episode_num', 'Michael_in']]\n",
    "michael_in.head(5)"
   ]
  },
  {
   "cell_type": "markdown",
   "id": "67320bfb",
   "metadata": {},
   "source": [
    "## Concat and join "
   ]
  },
  {
   "cell_type": "code",
   "execution_count": 10,
   "id": "1e2c9178",
   "metadata": {
    "scrolled": true
   },
   "outputs": [
    {
     "data": {
      "text/html": [
       "<div>\n",
       "<style scoped>\n",
       "    .dataframe tbody tr th:only-of-type {\n",
       "        vertical-align: middle;\n",
       "    }\n",
       "\n",
       "    .dataframe tbody tr th {\n",
       "        vertical-align: top;\n",
       "    }\n",
       "\n",
       "    .dataframe thead th {\n",
       "        text-align: right;\n",
       "    }\n",
       "</style>\n",
       "<table border=\"1\" class=\"dataframe\">\n",
       "  <thead>\n",
       "    <tr style=\"text-align: right;\">\n",
       "      <th></th>\n",
       "      <th>Unnamed: 0</th>\n",
       "      <th>Season</th>\n",
       "      <th>EpisodeTitle</th>\n",
       "      <th>About</th>\n",
       "      <th>Ratings</th>\n",
       "      <th>Votes</th>\n",
       "      <th>Viewership</th>\n",
       "      <th>Duration</th>\n",
       "      <th>Date</th>\n",
       "      <th>GuestStars</th>\n",
       "      <th>Director</th>\n",
       "      <th>Writers</th>\n",
       "      <th>season</th>\n",
       "      <th>episode_num</th>\n",
       "      <th>title</th>\n",
       "      <th>original_air_date</th>\n",
       "      <th>imdb_rating</th>\n",
       "      <th>total_votes</th>\n",
       "      <th>desc</th>\n",
       "    </tr>\n",
       "  </thead>\n",
       "  <tbody>\n",
       "    <tr>\n",
       "      <th>0</th>\n",
       "      <td>0</td>\n",
       "      <td>1</td>\n",
       "      <td>Pilot</td>\n",
       "      <td>The premiere episode introduces the boss and s...</td>\n",
       "      <td>7.5</td>\n",
       "      <td>4936</td>\n",
       "      <td>11.2</td>\n",
       "      <td>23</td>\n",
       "      <td>24 March 2005</td>\n",
       "      <td>NaN</td>\n",
       "      <td>Ken Kwapis</td>\n",
       "      <td>Ricky Gervais |Stephen Merchant and Greg Daniels</td>\n",
       "      <td>1</td>\n",
       "      <td>1</td>\n",
       "      <td>Pilot</td>\n",
       "      <td>2005-03-24</td>\n",
       "      <td>7.4</td>\n",
       "      <td>7006</td>\n",
       "      <td>The premiere episode introduces the boss and s...</td>\n",
       "    </tr>\n",
       "    <tr>\n",
       "      <th>1</th>\n",
       "      <td>1</td>\n",
       "      <td>1</td>\n",
       "      <td>Diversity Day</td>\n",
       "      <td>Michael's off color remark puts a sensitivity ...</td>\n",
       "      <td>8.3</td>\n",
       "      <td>4801</td>\n",
       "      <td>6.0</td>\n",
       "      <td>23</td>\n",
       "      <td>29 March 2005</td>\n",
       "      <td>NaN</td>\n",
       "      <td>Ken Kwapis</td>\n",
       "      <td>B. J. Novak</td>\n",
       "      <td>1</td>\n",
       "      <td>2</td>\n",
       "      <td>Diversity Day</td>\n",
       "      <td>2005-03-29</td>\n",
       "      <td>8.3</td>\n",
       "      <td>6902</td>\n",
       "      <td>Michael's off color remark puts a sensitivity ...</td>\n",
       "    </tr>\n",
       "    <tr>\n",
       "      <th>2</th>\n",
       "      <td>2</td>\n",
       "      <td>1</td>\n",
       "      <td>Health Care</td>\n",
       "      <td>Michael leaves Dwight in charge of picking the...</td>\n",
       "      <td>7.8</td>\n",
       "      <td>4024</td>\n",
       "      <td>5.8</td>\n",
       "      <td>22</td>\n",
       "      <td>5 April 2005</td>\n",
       "      <td>NaN</td>\n",
       "      <td>Ken Whittingham</td>\n",
       "      <td>Paul Lieberstein</td>\n",
       "      <td>1</td>\n",
       "      <td>3</td>\n",
       "      <td>Health Care</td>\n",
       "      <td>2005-04-05</td>\n",
       "      <td>7.7</td>\n",
       "      <td>5756</td>\n",
       "      <td>Michael leaves Dwight in charge of picking the...</td>\n",
       "    </tr>\n",
       "    <tr>\n",
       "      <th>3</th>\n",
       "      <td>3</td>\n",
       "      <td>1</td>\n",
       "      <td>The Alliance</td>\n",
       "      <td>Just for a laugh, Jim agrees to an alliance wi...</td>\n",
       "      <td>8.1</td>\n",
       "      <td>3915</td>\n",
       "      <td>5.4</td>\n",
       "      <td>23</td>\n",
       "      <td>12 April 2005</td>\n",
       "      <td>NaN</td>\n",
       "      <td>Bryan Gordon</td>\n",
       "      <td>Michael Schur</td>\n",
       "      <td>1</td>\n",
       "      <td>4</td>\n",
       "      <td>The Alliance</td>\n",
       "      <td>2005-04-12</td>\n",
       "      <td>8.0</td>\n",
       "      <td>5579</td>\n",
       "      <td>Just for a laugh, Jim agrees to an alliance wi...</td>\n",
       "    </tr>\n",
       "    <tr>\n",
       "      <th>4</th>\n",
       "      <td>4</td>\n",
       "      <td>1</td>\n",
       "      <td>Basketball</td>\n",
       "      <td>Michael and his staff challenge the warehouse ...</td>\n",
       "      <td>8.4</td>\n",
       "      <td>4294</td>\n",
       "      <td>5.0</td>\n",
       "      <td>23</td>\n",
       "      <td>19 April 2005</td>\n",
       "      <td>NaN</td>\n",
       "      <td>Greg Daniels</td>\n",
       "      <td>Greg Daniels</td>\n",
       "      <td>1</td>\n",
       "      <td>5</td>\n",
       "      <td>Basketball</td>\n",
       "      <td>2005-04-19</td>\n",
       "      <td>8.4</td>\n",
       "      <td>6183</td>\n",
       "      <td>Michael and his staff challenge the warehouse ...</td>\n",
       "    </tr>\n",
       "  </tbody>\n",
       "</table>\n",
       "</div>"
      ],
      "text/plain": [
       "   Unnamed: 0  Season   EpisodeTitle  \\\n",
       "0           0       1          Pilot   \n",
       "1           1       1  Diversity Day   \n",
       "2           2       1    Health Care   \n",
       "3           3       1   The Alliance   \n",
       "4           4       1     Basketball   \n",
       "\n",
       "                                               About  Ratings  Votes  \\\n",
       "0  The premiere episode introduces the boss and s...      7.5   4936   \n",
       "1  Michael's off color remark puts a sensitivity ...      8.3   4801   \n",
       "2  Michael leaves Dwight in charge of picking the...      7.8   4024   \n",
       "3  Just for a laugh, Jim agrees to an alliance wi...      8.1   3915   \n",
       "4  Michael and his staff challenge the warehouse ...      8.4   4294   \n",
       "\n",
       "   Viewership  Duration            Date GuestStars         Director  \\\n",
       "0        11.2        23   24 March 2005        NaN       Ken Kwapis   \n",
       "1         6.0        23   29 March 2005        NaN       Ken Kwapis   \n",
       "2         5.8        22    5 April 2005        NaN  Ken Whittingham   \n",
       "3         5.4        23   12 April 2005        NaN     Bryan Gordon   \n",
       "4         5.0        23   19 April 2005        NaN     Greg Daniels   \n",
       "\n",
       "                                            Writers  season  episode_num  \\\n",
       "0  Ricky Gervais |Stephen Merchant and Greg Daniels       1            1   \n",
       "1                                       B. J. Novak       1            2   \n",
       "2                                  Paul Lieberstein       1            3   \n",
       "3                                     Michael Schur       1            4   \n",
       "4                                      Greg Daniels       1            5   \n",
       "\n",
       "           title original_air_date  imdb_rating  total_votes  \\\n",
       "0          Pilot        2005-03-24          7.4         7006   \n",
       "1  Diversity Day        2005-03-29          8.3         6902   \n",
       "2    Health Care        2005-04-05          7.7         5756   \n",
       "3   The Alliance        2005-04-12          8.0         5579   \n",
       "4     Basketball        2005-04-19          8.4         6183   \n",
       "\n",
       "                                                desc  \n",
       "0  The premiere episode introduces the boss and s...  \n",
       "1  Michael's off color remark puts a sensitivity ...  \n",
       "2  Michael leaves Dwight in charge of picking the...  \n",
       "3  Just for a laugh, Jim agrees to an alliance wi...  \n",
       "4  Michael and his staff challenge the warehouse ...  "
      ]
     },
     "execution_count": 10,
     "metadata": {},
     "output_type": "execute_result"
    }
   ],
   "source": [
    "# joining two dataframes\n",
    "office_joined = office_series.join(office_imdb, how='left')\n",
    "office_joined.head(5)"
   ]
  },
  {
   "cell_type": "code",
   "execution_count": 11,
   "id": "9c1361ba-e70c-4dc2-bfed-b0b07c451d70",
   "metadata": {
    "scrolled": true,
    "tags": []
   },
   "outputs": [
    {
     "data": {
      "text/html": [
       "<div>\n",
       "<style scoped>\n",
       "    .dataframe tbody tr th:only-of-type {\n",
       "        vertical-align: middle;\n",
       "    }\n",
       "\n",
       "    .dataframe tbody tr th {\n",
       "        vertical-align: top;\n",
       "    }\n",
       "\n",
       "    .dataframe thead th {\n",
       "        text-align: right;\n",
       "    }\n",
       "</style>\n",
       "<table border=\"1\" class=\"dataframe\">\n",
       "  <thead>\n",
       "    <tr style=\"text-align: right;\">\n",
       "      <th></th>\n",
       "      <th>season</th>\n",
       "      <th>episode_num</th>\n",
       "      <th>title</th>\n",
       "      <th>original_air_date</th>\n",
       "      <th>imdb_rating</th>\n",
       "      <th>total_votes</th>\n",
       "      <th>desc</th>\n",
       "      <th>Viewership</th>\n",
       "      <th>Duration</th>\n",
       "      <th>GuestStars</th>\n",
       "      <th>Director</th>\n",
       "      <th>Writers</th>\n",
       "    </tr>\n",
       "  </thead>\n",
       "  <tbody>\n",
       "    <tr>\n",
       "      <th>0</th>\n",
       "      <td>1</td>\n",
       "      <td>1</td>\n",
       "      <td>Pilot</td>\n",
       "      <td>2005-03-24</td>\n",
       "      <td>7.4</td>\n",
       "      <td>7006</td>\n",
       "      <td>The premiere episode introduces the boss and s...</td>\n",
       "      <td>11.2</td>\n",
       "      <td>23</td>\n",
       "      <td>NaN</td>\n",
       "      <td>Ken Kwapis</td>\n",
       "      <td>Ricky Gervais |Stephen Merchant and Greg Daniels</td>\n",
       "    </tr>\n",
       "    <tr>\n",
       "      <th>1</th>\n",
       "      <td>1</td>\n",
       "      <td>2</td>\n",
       "      <td>Diversity Day</td>\n",
       "      <td>2005-03-29</td>\n",
       "      <td>8.3</td>\n",
       "      <td>6902</td>\n",
       "      <td>Michael's off color remark puts a sensitivity ...</td>\n",
       "      <td>6.0</td>\n",
       "      <td>23</td>\n",
       "      <td>NaN</td>\n",
       "      <td>Ken Kwapis</td>\n",
       "      <td>B. J. Novak</td>\n",
       "    </tr>\n",
       "    <tr>\n",
       "      <th>2</th>\n",
       "      <td>1</td>\n",
       "      <td>3</td>\n",
       "      <td>Health Care</td>\n",
       "      <td>2005-04-05</td>\n",
       "      <td>7.7</td>\n",
       "      <td>5756</td>\n",
       "      <td>Michael leaves Dwight in charge of picking the...</td>\n",
       "      <td>5.8</td>\n",
       "      <td>22</td>\n",
       "      <td>NaN</td>\n",
       "      <td>Ken Whittingham</td>\n",
       "      <td>Paul Lieberstein</td>\n",
       "    </tr>\n",
       "    <tr>\n",
       "      <th>3</th>\n",
       "      <td>1</td>\n",
       "      <td>4</td>\n",
       "      <td>The Alliance</td>\n",
       "      <td>2005-04-12</td>\n",
       "      <td>8.0</td>\n",
       "      <td>5579</td>\n",
       "      <td>Just for a laugh, Jim agrees to an alliance wi...</td>\n",
       "      <td>5.4</td>\n",
       "      <td>23</td>\n",
       "      <td>NaN</td>\n",
       "      <td>Bryan Gordon</td>\n",
       "      <td>Michael Schur</td>\n",
       "    </tr>\n",
       "    <tr>\n",
       "      <th>4</th>\n",
       "      <td>1</td>\n",
       "      <td>5</td>\n",
       "      <td>Basketball</td>\n",
       "      <td>2005-04-19</td>\n",
       "      <td>8.4</td>\n",
       "      <td>6183</td>\n",
       "      <td>Michael and his staff challenge the warehouse ...</td>\n",
       "      <td>5.0</td>\n",
       "      <td>23</td>\n",
       "      <td>NaN</td>\n",
       "      <td>Greg Daniels</td>\n",
       "      <td>Greg Daniels</td>\n",
       "    </tr>\n",
       "  </tbody>\n",
       "</table>\n",
       "</div>"
      ],
      "text/plain": [
       "   season  episode_num          title original_air_date  imdb_rating  \\\n",
       "0       1            1          Pilot        2005-03-24          7.4   \n",
       "1       1            2  Diversity Day        2005-03-29          8.3   \n",
       "2       1            3    Health Care        2005-04-05          7.7   \n",
       "3       1            4   The Alliance        2005-04-12          8.0   \n",
       "4       1            5     Basketball        2005-04-19          8.4   \n",
       "\n",
       "   total_votes                                               desc  Viewership  \\\n",
       "0         7006  The premiere episode introduces the boss and s...        11.2   \n",
       "1         6902  Michael's off color remark puts a sensitivity ...         6.0   \n",
       "2         5756  Michael leaves Dwight in charge of picking the...         5.8   \n",
       "3         5579  Just for a laugh, Jim agrees to an alliance wi...         5.4   \n",
       "4         6183  Michael and his staff challenge the warehouse ...         5.0   \n",
       "\n",
       "   Duration GuestStars         Director  \\\n",
       "0        23        NaN       Ken Kwapis   \n",
       "1        23        NaN       Ken Kwapis   \n",
       "2        22        NaN  Ken Whittingham   \n",
       "3        23        NaN     Bryan Gordon   \n",
       "4        23        NaN     Greg Daniels   \n",
       "\n",
       "                                            Writers  \n",
       "0  Ricky Gervais |Stephen Merchant and Greg Daniels  \n",
       "1                                       B. J. Novak  \n",
       "2                                  Paul Lieberstein  \n",
       "3                                     Michael Schur  \n",
       "4                                      Greg Daniels  "
      ]
     },
     "execution_count": 11,
     "metadata": {},
     "output_type": "execute_result"
    }
   ],
   "source": [
    "# selecting only the relevant columns\n",
    "office = office_joined[['season', 'episode_num', 'title', 'original_air_date', 'imdb_rating', \n",
    "                        'total_votes', 'desc', 'Viewership', 'Duration', 'GuestStars', 'Director', 'Writers']]\n",
    "office.head(5)"
   ]
  },
  {
   "cell_type": "code",
   "execution_count": 12,
   "id": "5d268b15-ef43-4d85-9409-fc3a3133cfbd",
   "metadata": {
    "scrolled": true,
    "tags": []
   },
   "outputs": [
    {
     "data": {
      "text/html": [
       "<div>\n",
       "<style scoped>\n",
       "    .dataframe tbody tr th:only-of-type {\n",
       "        vertical-align: middle;\n",
       "    }\n",
       "\n",
       "    .dataframe tbody tr th {\n",
       "        vertical-align: top;\n",
       "    }\n",
       "\n",
       "    .dataframe thead th {\n",
       "        text-align: right;\n",
       "    }\n",
       "</style>\n",
       "<table border=\"1\" class=\"dataframe\">\n",
       "  <thead>\n",
       "    <tr style=\"text-align: right;\">\n",
       "      <th></th>\n",
       "      <th>season</th>\n",
       "      <th>episode_num</th>\n",
       "      <th>title</th>\n",
       "      <th>original_air_date</th>\n",
       "      <th>imdb_rating</th>\n",
       "      <th>total_votes</th>\n",
       "      <th>desc</th>\n",
       "      <th>Viewership</th>\n",
       "      <th>Duration</th>\n",
       "      <th>GuestStars</th>\n",
       "      <th>Director</th>\n",
       "      <th>Writers</th>\n",
       "      <th>Michael_in</th>\n",
       "    </tr>\n",
       "  </thead>\n",
       "  <tbody>\n",
       "    <tr>\n",
       "      <th>0</th>\n",
       "      <td>1</td>\n",
       "      <td>1</td>\n",
       "      <td>Pilot</td>\n",
       "      <td>2005-03-24</td>\n",
       "      <td>7.4</td>\n",
       "      <td>7006</td>\n",
       "      <td>The premiere episode introduces the boss and s...</td>\n",
       "      <td>11.20</td>\n",
       "      <td>23</td>\n",
       "      <td>NaN</td>\n",
       "      <td>Ken Kwapis</td>\n",
       "      <td>Ricky Gervais |Stephen Merchant and Greg Daniels</td>\n",
       "      <td>1</td>\n",
       "    </tr>\n",
       "    <tr>\n",
       "      <th>1</th>\n",
       "      <td>1</td>\n",
       "      <td>2</td>\n",
       "      <td>Diversity Day</td>\n",
       "      <td>2005-03-29</td>\n",
       "      <td>8.3</td>\n",
       "      <td>6902</td>\n",
       "      <td>Michael's off color remark puts a sensitivity ...</td>\n",
       "      <td>6.00</td>\n",
       "      <td>23</td>\n",
       "      <td>NaN</td>\n",
       "      <td>Ken Kwapis</td>\n",
       "      <td>B. J. Novak</td>\n",
       "      <td>1</td>\n",
       "    </tr>\n",
       "    <tr>\n",
       "      <th>2</th>\n",
       "      <td>1</td>\n",
       "      <td>3</td>\n",
       "      <td>Health Care</td>\n",
       "      <td>2005-04-05</td>\n",
       "      <td>7.7</td>\n",
       "      <td>5756</td>\n",
       "      <td>Michael leaves Dwight in charge of picking the...</td>\n",
       "      <td>5.80</td>\n",
       "      <td>22</td>\n",
       "      <td>NaN</td>\n",
       "      <td>Ken Whittingham</td>\n",
       "      <td>Paul Lieberstein</td>\n",
       "      <td>1</td>\n",
       "    </tr>\n",
       "    <tr>\n",
       "      <th>3</th>\n",
       "      <td>1</td>\n",
       "      <td>4</td>\n",
       "      <td>The Alliance</td>\n",
       "      <td>2005-04-12</td>\n",
       "      <td>8.0</td>\n",
       "      <td>5579</td>\n",
       "      <td>Just for a laugh, Jim agrees to an alliance wi...</td>\n",
       "      <td>5.40</td>\n",
       "      <td>23</td>\n",
       "      <td>NaN</td>\n",
       "      <td>Bryan Gordon</td>\n",
       "      <td>Michael Schur</td>\n",
       "      <td>1</td>\n",
       "    </tr>\n",
       "    <tr>\n",
       "      <th>4</th>\n",
       "      <td>1</td>\n",
       "      <td>5</td>\n",
       "      <td>Basketball</td>\n",
       "      <td>2005-04-19</td>\n",
       "      <td>8.4</td>\n",
       "      <td>6183</td>\n",
       "      <td>Michael and his staff challenge the warehouse ...</td>\n",
       "      <td>5.00</td>\n",
       "      <td>23</td>\n",
       "      <td>NaN</td>\n",
       "      <td>Greg Daniels</td>\n",
       "      <td>Greg Daniels</td>\n",
       "      <td>1</td>\n",
       "    </tr>\n",
       "    <tr>\n",
       "      <th>...</th>\n",
       "      <td>...</td>\n",
       "      <td>...</td>\n",
       "      <td>...</td>\n",
       "      <td>...</td>\n",
       "      <td>...</td>\n",
       "      <td>...</td>\n",
       "      <td>...</td>\n",
       "      <td>...</td>\n",
       "      <td>...</td>\n",
       "      <td>...</td>\n",
       "      <td>...</td>\n",
       "      <td>...</td>\n",
       "      <td>...</td>\n",
       "    </tr>\n",
       "    <tr>\n",
       "      <th>183</th>\n",
       "      <td>9</td>\n",
       "      <td>19</td>\n",
       "      <td>Stairmageddon</td>\n",
       "      <td>2013-04-11</td>\n",
       "      <td>8.0</td>\n",
       "      <td>2961</td>\n",
       "      <td>Dwight shoots Stanley with a bull tranquilizer...</td>\n",
       "      <td>3.83</td>\n",
       "      <td>22</td>\n",
       "      <td>NaN</td>\n",
       "      <td>Matt Sohn</td>\n",
       "      <td>Dan Sterling</td>\n",
       "      <td>0</td>\n",
       "    </tr>\n",
       "    <tr>\n",
       "      <th>184</th>\n",
       "      <td>9</td>\n",
       "      <td>20</td>\n",
       "      <td>Paper Airplane</td>\n",
       "      <td>2013-04-25</td>\n",
       "      <td>8.0</td>\n",
       "      <td>3040</td>\n",
       "      <td>The employees hold a paper airplane competitio...</td>\n",
       "      <td>3.25</td>\n",
       "      <td>22</td>\n",
       "      <td>NaN</td>\n",
       "      <td>Jesse Peretz</td>\n",
       "      <td>Halsted Sullivan | Warren Lieberstein</td>\n",
       "      <td>0</td>\n",
       "    </tr>\n",
       "    <tr>\n",
       "      <th>185</th>\n",
       "      <td>9</td>\n",
       "      <td>21</td>\n",
       "      <td>Livin' the Dream</td>\n",
       "      <td>2013-05-02</td>\n",
       "      <td>9.1</td>\n",
       "      <td>4448</td>\n",
       "      <td>Dwight becomes regional manager after Andy qui...</td>\n",
       "      <td>3.51</td>\n",
       "      <td>42</td>\n",
       "      <td>Michael Imperioli</td>\n",
       "      <td>Jeffrey Blitz</td>\n",
       "      <td>Niki Schwartz-Wright</td>\n",
       "      <td>0</td>\n",
       "    </tr>\n",
       "    <tr>\n",
       "      <th>186</th>\n",
       "      <td>9</td>\n",
       "      <td>22</td>\n",
       "      <td>A.A.R.M.</td>\n",
       "      <td>2013-05-09</td>\n",
       "      <td>9.5</td>\n",
       "      <td>5930</td>\n",
       "      <td>Dwight prepares for a marriage proposal and hi...</td>\n",
       "      <td>4.56</td>\n",
       "      <td>43</td>\n",
       "      <td>NaN</td>\n",
       "      <td>David Rogers</td>\n",
       "      <td>Brent Forrester</td>\n",
       "      <td>0</td>\n",
       "    </tr>\n",
       "    <tr>\n",
       "      <th>187</th>\n",
       "      <td>9</td>\n",
       "      <td>23</td>\n",
       "      <td>Finale</td>\n",
       "      <td>2013-05-16</td>\n",
       "      <td>9.8</td>\n",
       "      <td>15245</td>\n",
       "      <td>One year later, Dunder Mifflin employees past ...</td>\n",
       "      <td>5.69</td>\n",
       "      <td>51</td>\n",
       "      <td>Joan Cusack, Ed Begley Jr, Rachel Harris, Nanc...</td>\n",
       "      <td>Ken Kwapis</td>\n",
       "      <td>Greg Daniels</td>\n",
       "      <td>0</td>\n",
       "    </tr>\n",
       "  </tbody>\n",
       "</table>\n",
       "<p>188 rows × 13 columns</p>\n",
       "</div>"
      ],
      "text/plain": [
       "     season  episode_num             title original_air_date  imdb_rating  \\\n",
       "0         1            1             Pilot        2005-03-24          7.4   \n",
       "1         1            2     Diversity Day        2005-03-29          8.3   \n",
       "2         1            3       Health Care        2005-04-05          7.7   \n",
       "3         1            4      The Alliance        2005-04-12          8.0   \n",
       "4         1            5        Basketball        2005-04-19          8.4   \n",
       "..      ...          ...               ...               ...          ...   \n",
       "183       9           19     Stairmageddon        2013-04-11          8.0   \n",
       "184       9           20    Paper Airplane        2013-04-25          8.0   \n",
       "185       9           21  Livin' the Dream        2013-05-02          9.1   \n",
       "186       9           22          A.A.R.M.        2013-05-09          9.5   \n",
       "187       9           23            Finale        2013-05-16          9.8   \n",
       "\n",
       "     total_votes                                               desc  \\\n",
       "0           7006  The premiere episode introduces the boss and s...   \n",
       "1           6902  Michael's off color remark puts a sensitivity ...   \n",
       "2           5756  Michael leaves Dwight in charge of picking the...   \n",
       "3           5579  Just for a laugh, Jim agrees to an alliance wi...   \n",
       "4           6183  Michael and his staff challenge the warehouse ...   \n",
       "..           ...                                                ...   \n",
       "183         2961  Dwight shoots Stanley with a bull tranquilizer...   \n",
       "184         3040  The employees hold a paper airplane competitio...   \n",
       "185         4448  Dwight becomes regional manager after Andy qui...   \n",
       "186         5930  Dwight prepares for a marriage proposal and hi...   \n",
       "187        15245  One year later, Dunder Mifflin employees past ...   \n",
       "\n",
       "     Viewership  Duration                                         GuestStars  \\\n",
       "0         11.20        23                                                NaN   \n",
       "1          6.00        23                                                NaN   \n",
       "2          5.80        22                                                NaN   \n",
       "3          5.40        23                                                NaN   \n",
       "4          5.00        23                                                NaN   \n",
       "..          ...       ...                                                ...   \n",
       "183        3.83        22                                                NaN   \n",
       "184        3.25        22                                                NaN   \n",
       "185        3.51        42                                 Michael Imperioli    \n",
       "186        4.56        43                                                NaN   \n",
       "187        5.69        51  Joan Cusack, Ed Begley Jr, Rachel Harris, Nanc...   \n",
       "\n",
       "            Director                                           Writers  \\\n",
       "0         Ken Kwapis  Ricky Gervais |Stephen Merchant and Greg Daniels   \n",
       "1         Ken Kwapis                                       B. J. Novak   \n",
       "2    Ken Whittingham                                  Paul Lieberstein   \n",
       "3       Bryan Gordon                                     Michael Schur   \n",
       "4       Greg Daniels                                      Greg Daniels   \n",
       "..               ...                                               ...   \n",
       "183        Matt Sohn                                      Dan Sterling   \n",
       "184     Jesse Peretz             Halsted Sullivan | Warren Lieberstein   \n",
       "185    Jeffrey Blitz                              Niki Schwartz-Wright   \n",
       "186     David Rogers                                   Brent Forrester   \n",
       "187       Ken Kwapis                                      Greg Daniels   \n",
       "\n",
       "     Michael_in  \n",
       "0             1  \n",
       "1             1  \n",
       "2             1  \n",
       "3             1  \n",
       "4             1  \n",
       "..          ...  \n",
       "183           0  \n",
       "184           0  \n",
       "185           0  \n",
       "186           0  \n",
       "187           0  \n",
       "\n",
       "[188 rows x 13 columns]"
      ]
     },
     "execution_count": 12,
     "metadata": {},
     "output_type": "execute_result"
    }
   ],
   "source": [
    "# merging two dataframes\n",
    "office = pd.merge(office, michael_in, how='left', on=['season', 'episode_num'])\n",
    "# replacing NaN values in Michael-in column with 'No' value\n",
    "office['Michael_in'].fillna(value = 'No', inplace = True)\n",
    "# turn the categorical column michael_presence into 1/0\n",
    "office = office.replace({'Michael_in': {'Yes': 1, 'No': 0}})\n",
    "office"
   ]
  },
  {
   "cell_type": "code",
   "execution_count": 13,
   "id": "39455e58-15f4-49ea-801c-77d1e5e0a8b6",
   "metadata": {},
   "outputs": [
    {
     "name": "stdout",
     "output_type": "stream",
     "text": [
      "<class 'pandas.core.frame.DataFrame'>\n",
      "Int64Index: 188 entries, 0 to 187\n",
      "Data columns (total 13 columns):\n",
      " #   Column             Non-Null Count  Dtype  \n",
      "---  ------             --------------  -----  \n",
      " 0   season             188 non-null    int64  \n",
      " 1   episode_num        188 non-null    int64  \n",
      " 2   title              188 non-null    object \n",
      " 3   original_air_date  188 non-null    object \n",
      " 4   imdb_rating        188 non-null    float64\n",
      " 5   total_votes        188 non-null    int64  \n",
      " 6   desc               188 non-null    object \n",
      " 7   Viewership         188 non-null    float64\n",
      " 8   Duration           188 non-null    int64  \n",
      " 9   GuestStars         29 non-null     object \n",
      " 10  Director           188 non-null    object \n",
      " 11  Writers            188 non-null    object \n",
      " 12  Michael_in         188 non-null    int64  \n",
      "dtypes: float64(2), int64(5), object(6)\n",
      "memory usage: 20.6+ KB\n"
     ]
    }
   ],
   "source": [
    "# getting the info on Dataframe\n",
    "office.info()"
   ]
  },
  {
   "cell_type": "markdown",
   "id": "b6ca2f5f-5d33-4363-8c89-1ac4ead83fbd",
   "metadata": {},
   "source": [
    "***\n",
    "I decided the best measure of success of The Office episodes is IMDB rating. Accordingly success(aka IMDB rating) = beta0 + beta1 * x1 + beta2 * x2 + beta3 * x3 + beta4 * x4 + epsilon, \n",
    "where: \n",
    "* beta 0 is the average baseline success (average IMDB rating), \n",
    "* betas are additional change in the success that comes from one additional value of the variable x, \n",
    "* x's are independent variables, \n",
    "* epsilon is the extra noise."
   ]
  },
  {
   "cell_type": "markdown",
   "id": "4e36f361-5a28-4186-84c8-1465f2beb65f",
   "metadata": {},
   "source": [
    "## Finding the distribution of the variables"
   ]
  },
  {
   "cell_type": "code",
   "execution_count": 14,
   "id": "48802074-210d-4efc-b036-8d53f1e80666",
   "metadata": {},
   "outputs": [
    {
     "data": {
      "text/plain": [
       "<AxesSubplot:ylabel='Frequency'>"
      ]
     },
     "execution_count": 14,
     "metadata": {},
     "output_type": "execute_result"
    },
    {
     "data": {
      "image/png": "[encoded data removed]",
      "text/plain": [
       "<Figure size 792x504 with 1 Axes>"
      ]
     },
     "metadata": {
      "needs_background": "light"
     },
     "output_type": "display_data"
    }
   ],
   "source": [
    "# plotting the viewership distribution \n",
    "fig, ax = plt.subplots(1, 1, figsize = (11,7))\n",
    "\n",
    "office['Viewership'].plot.hist(ax = ax, bins = 100)"
   ]
  },
  {
   "cell_type": "markdown",
   "id": "8fad7e0f-326d-49de-9abc-50f1a15ce2d6",
   "metadata": {},
   "source": [
    "Histogram above is showing the normal distributions for the viewership data. "
   ]
  },
  {
   "cell_type": "code",
   "execution_count": 15,
   "id": "4cbffcf6-4514-4f4f-8d6d-8aec29db1089",
   "metadata": {},
   "outputs": [
    {
     "data": {
      "text/plain": [
       "7.246329787234051"
      ]
     },
     "execution_count": 15,
     "metadata": {},
     "output_type": "execute_result"
    }
   ],
   "source": [
    "# calculating the mean value for the viewership for all episodes\n",
    "viewership_mean = office['Viewership'].mean()\n",
    "viewership_mean"
   ]
  },
  {
   "cell_type": "code",
   "execution_count": 16,
   "id": "6e543916-3eaa-4dcd-9112-ef2c2b505325",
   "metadata": {},
   "outputs": [
    {
     "data": {
      "text/plain": [
       "2.066011641923279"
      ]
     },
     "execution_count": 16,
     "metadata": {},
     "output_type": "execute_result"
    }
   ],
   "source": [
    "# calculating standard deviation\n",
    "viewership_std = office['Viewership'].std()\n",
    "viewership_std"
   ]
  },
  {
   "cell_type": "code",
   "execution_count": 17,
   "id": "add17b44-7ebb-4193-9f17-fe4ab4806702",
   "metadata": {},
   "outputs": [
    {
     "data": {
      "text/plain": [
       "<AxesSubplot:ylabel='Frequency'>"
      ]
     },
     "execution_count": 17,
     "metadata": {},
     "output_type": "execute_result"
    },
    {
     "data": {
      "image/png": "[encoded data removed]",
      "text/plain": [
       "<Figure size 792x504 with 1 Axes>"
      ]
     },
     "metadata": {
      "needs_background": "light"
     },
     "output_type": "display_data"
    }
   ],
   "source": [
    "# plotting the IMBD ratings distribution \n",
    "fig, ax = plt.subplots(1, 1, figsize = (11,7))\n",
    "\n",
    "office['imdb_rating'].plot.hist(ax = ax, bins = 50)"
   ]
  },
  {
   "cell_type": "markdown",
   "id": "5d4b98c2-7187-4df2-a152-4895ed5af0ac",
   "metadata": {},
   "source": [
    "Histogram above is showing the normal distributions for the imdb ratings data."
   ]
  },
  {
   "cell_type": "code",
   "execution_count": 18,
   "id": "8d881777-17f7-4aab-ba58-fb6a002acd02",
   "metadata": {},
   "outputs": [
    {
     "data": {
      "text/plain": [
       "8.219148936170212"
      ]
     },
     "execution_count": 18,
     "metadata": {},
     "output_type": "execute_result"
    }
   ],
   "source": [
    "# calculating the mean value of the imdb scores for all episodes\n",
    "imdb_rating_mean = office['imdb_rating'].mean()\n",
    "imdb_rating_mean"
   ]
  },
  {
   "cell_type": "markdown",
   "id": "465b84f5-a6bc-4966-a36f-ed321ac78b35",
   "metadata": {},
   "source": [
    "The mean value of IMDB scores for all episodes is 8.22, thus beta0 is 8.22. "
   ]
  },
  {
   "cell_type": "code",
   "execution_count": 19,
   "id": "7f7f9910-e577-4234-9081-eac952d9934e",
   "metadata": {},
   "outputs": [
    {
     "data": {
      "text/plain": [
       "0.6153606995361512"
      ]
     },
     "execution_count": 19,
     "metadata": {},
     "output_type": "execute_result"
    }
   ],
   "source": [
    "# calculating standard deviation\n",
    "imdb_rating_std = office['imdb_rating'].std()\n",
    "imdb_rating_std"
   ]
  },
  {
   "cell_type": "markdown",
   "id": "1742ca0a-2d38-43b9-860e-fe972060fca8",
   "metadata": {},
   "source": [
    "The standard deviation value of the distribution is 0.615. "
   ]
  },
  {
   "cell_type": "code",
   "execution_count": 20,
   "id": "869b75cd-feb7-4d3f-9245-84469f1f91c0",
   "metadata": {},
   "outputs": [
    {
     "data": {
      "text/plain": [
       "<AxesSubplot:ylabel='Frequency'>"
      ]
     },
     "execution_count": 20,
     "metadata": {},
     "output_type": "execute_result"
    },
    {
     "data": {
      "image/png": "[encoded data removed]",
      "text/plain": [
       "<Figure size 792x504 with 1 Axes>"
      ]
     },
     "metadata": {
      "needs_background": "light"
     },
     "output_type": "display_data"
    }
   ],
   "source": [
    "# plotting the distribution for total votes \n",
    "fig, ax = plt.subplots(1, 1, figsize = (11,7))\n",
    "\n",
    "office['total_votes'].plot.hist(ax = ax, bins = 50)"
   ]
  },
  {
   "cell_type": "markdown",
   "id": "91eb9c4e-8402-4644-aab1-ac7d1c2694a8",
   "metadata": {},
   "source": [
    "Histogram above is showing the exponentinal distributions for the total voting data."
   ]
  },
  {
   "cell_type": "code",
   "execution_count": 21,
   "id": "e9839e21-bdcf-49dd-869e-4ce8ae16f56a",
   "metadata": {},
   "outputs": [
    {
     "data": {
      "text/plain": [
       "4119.196808510638"
      ]
     },
     "execution_count": 21,
     "metadata": {},
     "output_type": "execute_result"
    }
   ],
   "source": [
    "# calculating the mean value of the total votes for all episodes\n",
    "total_votes_mean = office['total_votes'].mean()\n",
    "total_votes_mean"
   ]
  },
  {
   "cell_type": "markdown",
   "id": "5f6bebdd-c3d2-427f-a2a3-6da317cfa0fe",
   "metadata": {},
   "source": [
    "Variable Michael_in has a binomal distribution (yes/no). [[1]](#References)"
   ]
  },
  {
   "cell_type": "markdown",
   "id": "be472ae8-39a3-41e3-aa0e-fd6584f39ed2",
   "metadata": {},
   "source": [
    "## Relationships between variables"
   ]
  },
  {
   "cell_type": "code",
   "execution_count": 22,
   "id": "2adeb78a-7326-4a7e-9434-610a2daa33d9",
   "metadata": {},
   "outputs": [
    {
     "data": {
      "text/plain": [
       "Text(0, 0.5, 'Viewership(mil)')"
      ]
     },
     "execution_count": 22,
     "metadata": {},
     "output_type": "execute_result"
    },
    {
     "data": {
      "image/png": "[encoded data removed]",
      "text/plain": [
       "<Figure size 792x504 with 1 Axes>"
      ]
     },
     "metadata": {
      "needs_background": "light"
     },
     "output_type": "display_data"
    }
   ],
   "source": [
    "fig, ax = plt.subplots(1, 1, figsize = (11,7))\n",
    "\n",
    "# plotting the relationship between viewership and imdb ratings \n",
    "ax.scatter(y=office['Viewership'], \n",
    "           x=office['imdb_rating'],)\n",
    "ax.set_title(\"IMDB ratings vs viewership\") # setting the title\n",
    "ax.set_xlabel(\"IMDB ratings\") # setting the x label\n",
    "ax.set_ylabel(\"Viewership(mil)\") # setting the y label"
   ]
  },
  {
   "cell_type": "code",
   "execution_count": 23,
   "id": "71f46be2-49cb-4f4c-b121-0a9b0b0dd378",
   "metadata": {},
   "outputs": [],
   "source": [
    "# Build linear regression model for the above scatter plot\n",
    "# Split data into predictor X and output Y\n",
    "y = office[['imdb_rating']]\n",
    "x = office[['Viewership']]\n",
    "\n",
    "# Initialise and fit model\n",
    "lm = LinearRegression()\n",
    "model1 = lm.fit(x, y)"
   ]
  },
  {
   "cell_type": "code",
   "execution_count": 24,
   "id": "7d4b9bdb-6382-400e-9eda-4bd7f5c82942",
   "metadata": {},
   "outputs": [
    {
     "name": "stdout",
     "output_type": "stream",
     "text": [
      "betas = [[0.14334054]]\n"
     ]
    }
   ],
   "source": [
    "# print out the beta value\n",
    "print(f'betas = {model1.coef_}')"
   ]
  },
  {
   "cell_type": "markdown",
   "id": "f305835a-cbfb-4a0d-b4ab-9f1c344ef859",
   "metadata": {},
   "source": [
    "One more viewer increases IMDB rating on average for 0.1433 points, thus beta1 equals 0.14334054. "
   ]
  },
  {
   "cell_type": "code",
   "execution_count": 25,
   "id": "b4498158-8524-422e-89ed-deeaa34f3b69",
   "metadata": {},
   "outputs": [
    {
     "data": {
      "text/plain": [
       "Text(0, 0.5, 'Total votes')"
      ]
     },
     "execution_count": 25,
     "metadata": {},
     "output_type": "execute_result"
    },
    {
     "data": {
      "image/png": "[encoded data removed]",
      "text/plain": [
       "<Figure size 792x504 with 1 Axes>"
      ]
     },
     "metadata": {
      "needs_background": "light"
     },
     "output_type": "display_data"
    }
   ],
   "source": [
    "fig, ax = plt.subplots(1, 1, figsize = (11,7))\n",
    "\n",
    "# plotting the relationship between imdb ratings and total votes  \n",
    "ax.scatter(y=office['total_votes'], \n",
    "           x=office['imdb_rating'],)\n",
    "ax.set_title(\"IMDB ratings vs total votes\") # setting the title\n",
    "ax.set_xlabel(\"IMDB ratings\") # setting the x label\n",
    "ax.set_ylabel(\"Total votes\") # setting the y label"
   ]
  },
  {
   "cell_type": "code",
   "execution_count": 26,
   "id": "0e5e3677-59b9-445b-ab5c-12b19c4fe261",
   "metadata": {},
   "outputs": [],
   "source": [
    "# Build linear regression model for the above scatter plot\n",
    "# Split data into predictor X and output Y\n",
    "Y = office[['imdb_rating']]\n",
    "X = office[['total_votes']]\n",
    "\n",
    "# Initialise and fit model\n",
    "lm = LinearRegression()\n",
    "model2 = lm.fit(X, Y)"
   ]
  },
  {
   "cell_type": "code",
   "execution_count": 27,
   "id": "6f04c671-580f-45e7-9a1b-78996e131894",
   "metadata": {},
   "outputs": [
    {
     "name": "stdout",
     "output_type": "stream",
     "text": [
      "betas = [[0.00025473]]\n"
     ]
    }
   ],
   "source": [
    "# print out the beta value\n",
    "print(f'betas = {model2.coef_}')"
   ]
  },
  {
   "cell_type": "markdown",
   "id": "b1354433-05f3-40f9-bd38-0728bf98b64a",
   "metadata": {},
   "source": [
    "One more vote increases IMDB rating on average for 0.00025473 points, thus beta2 equals  0.00025473."
   ]
  },
  {
   "cell_type": "code",
   "execution_count": 28,
   "id": "8dc44537-18c4-40ec-ba4f-aae32c78323f",
   "metadata": {},
   "outputs": [
    {
     "data": {
      "image/png": "[encoded data removed]",
      "text/plain": [
       "<Figure size 792x504 with 2 Axes>"
      ]
     },
     "metadata": {
      "needs_background": "light"
     },
     "output_type": "display_data"
    }
   ],
   "source": [
    "fig, (ax1, ax2) = plt.subplots(2, 1, figsize = (11,7), sharex=True)\n",
    "\n",
    "# plotting the distbution of the imdb ratings along for episodes when Michael is/is not present \n",
    "imdb_michael_in = office.loc[office['Michael_in'] == 1, 'imdb_rating']\n",
    "imdb_no_michael = office.loc[office['Michael_in'] == 0, 'imdb_rating']\n",
    "imdb_michael_in.plot.hist(ax = ax1, bins = 50)\n",
    "imdb_no_michael.plot.hist(ax = ax2, bins = 50, color = \"Orange\")\n",
    "\n",
    "ax1.set_title(\"IMDB ratings when Michael is present\") # setting the title\n",
    "ax2.set_title(\"IMDB ratings when Michael is NOT present\") # setting the title\n",
    "ax1.set_xlabel(\"IMDB ratings\") # setting the x label for ax1 axis\n",
    "ax2.set_xlabel(\"IMDB ratings\") # setting the x label fro ax1 axis\n",
    "\n",
    "fig.subplots_adjust(hspace=0.5) # adjusting the space between the axes    a\n"
   ]
  },
  {
   "cell_type": "code",
   "execution_count": 29,
   "id": "4dbaa3e0-6344-4793-a9e1-6e02b30273db",
   "metadata": {},
   "outputs": [
    {
     "data": {
      "text/plain": [
       "8.366406250000002"
      ]
     },
     "execution_count": 29,
     "metadata": {},
     "output_type": "execute_result"
    }
   ],
   "source": [
    "# mean value of imdb ratings when Michael is present \n",
    "imdb_michael_in.mean()"
   ]
  },
  {
   "cell_type": "code",
   "execution_count": 30,
   "id": "86c69b68-182e-4281-9328-2f007d5e787e",
   "metadata": {},
   "outputs": [
    {
     "data": {
      "text/plain": [
       "7.905000000000001"
      ]
     },
     "execution_count": 30,
     "metadata": {},
     "output_type": "execute_result"
    }
   ],
   "source": [
    "# mean value of imdb ratings when Michael is not present \n",
    "imdb_no_michael.mean()"
   ]
  },
  {
   "cell_type": "markdown",
   "id": "78b8fc0e-f149-4c19-80c3-3b7d6b1137fa",
   "metadata": {},
   "source": [
    "Episodes where Michael is present have on average 0.46 higher IMDB score that episode where Michael is not present, thus beta3 equals 0.46. "
   ]
  },
  {
   "cell_type": "markdown",
   "id": "462be353-833a-4edb-a73a-c75a706b22c4",
   "metadata": {},
   "source": [
    "## Recreating syntetic dataset"
   ]
  },
  {
   "cell_type": "code",
   "execution_count": 31,
   "id": "2ced082f-3e34-4357-bcb3-cdb7b1df8535",
   "metadata": {},
   "outputs": [],
   "source": [
    "# seeding the number generator\n",
    "rng = np.random.default_rng()\n",
    "# number of records\n",
    "n = 188\n",
    "# recreating syntetic data for each variable without taking into consideration beta's effect\n",
    "success =  rng.normal(loc=imdb_rating_mean, scale=imdb_rating_std, size=n)\n",
    "viewership = rng.normal(loc=viewership_mean, scale=viewership_std, size=n)\n",
    "total_votes = rng.exponential(scale=total_votes_mean, size=n) \n",
    "michael_presence = np.random.choice([1, 0], size=n, p=[0.5, 0.5])"
   ]
  },
  {
   "cell_type": "code",
   "execution_count": 32,
   "id": "328b580a-93b7-4854-ae52-4dbc49b227f3",
   "metadata": {},
   "outputs": [
    {
     "data": {
      "text/html": [
       "<div>\n",
       "<style scoped>\n",
       "    .dataframe tbody tr th:only-of-type {\n",
       "        vertical-align: middle;\n",
       "    }\n",
       "\n",
       "    .dataframe tbody tr th {\n",
       "        vertical-align: top;\n",
       "    }\n",
       "\n",
       "    .dataframe thead th {\n",
       "        text-align: right;\n",
       "    }\n",
       "</style>\n",
       "<table border=\"1\" class=\"dataframe\">\n",
       "  <thead>\n",
       "    <tr style=\"text-align: right;\">\n",
       "      <th></th>\n",
       "      <th>success</th>\n",
       "      <th>viewership</th>\n",
       "      <th>total_votes</th>\n",
       "      <th>michael_presence</th>\n",
       "    </tr>\n",
       "  </thead>\n",
       "  <tbody>\n",
       "    <tr>\n",
       "      <th>0</th>\n",
       "      <td>7.487966</td>\n",
       "      <td>4.970529</td>\n",
       "      <td>11555.188407</td>\n",
       "      <td>1</td>\n",
       "    </tr>\n",
       "    <tr>\n",
       "      <th>1</th>\n",
       "      <td>8.412917</td>\n",
       "      <td>4.280946</td>\n",
       "      <td>3630.202632</td>\n",
       "      <td>0</td>\n",
       "    </tr>\n",
       "    <tr>\n",
       "      <th>2</th>\n",
       "      <td>7.952008</td>\n",
       "      <td>10.527851</td>\n",
       "      <td>1014.080962</td>\n",
       "      <td>0</td>\n",
       "    </tr>\n",
       "    <tr>\n",
       "      <th>3</th>\n",
       "      <td>7.017440</td>\n",
       "      <td>4.402080</td>\n",
       "      <td>6865.686729</td>\n",
       "      <td>0</td>\n",
       "    </tr>\n",
       "    <tr>\n",
       "      <th>4</th>\n",
       "      <td>7.734210</td>\n",
       "      <td>8.131153</td>\n",
       "      <td>359.982911</td>\n",
       "      <td>1</td>\n",
       "    </tr>\n",
       "    <tr>\n",
       "      <th>...</th>\n",
       "      <td>...</td>\n",
       "      <td>...</td>\n",
       "      <td>...</td>\n",
       "      <td>...</td>\n",
       "    </tr>\n",
       "    <tr>\n",
       "      <th>183</th>\n",
       "      <td>8.028823</td>\n",
       "      <td>7.281147</td>\n",
       "      <td>5554.161646</td>\n",
       "      <td>1</td>\n",
       "    </tr>\n",
       "    <tr>\n",
       "      <th>184</th>\n",
       "      <td>8.532236</td>\n",
       "      <td>6.237242</td>\n",
       "      <td>13597.940086</td>\n",
       "      <td>0</td>\n",
       "    </tr>\n",
       "    <tr>\n",
       "      <th>185</th>\n",
       "      <td>8.594325</td>\n",
       "      <td>4.994548</td>\n",
       "      <td>3301.276169</td>\n",
       "      <td>1</td>\n",
       "    </tr>\n",
       "    <tr>\n",
       "      <th>186</th>\n",
       "      <td>8.560200</td>\n",
       "      <td>5.145196</td>\n",
       "      <td>3222.623672</td>\n",
       "      <td>0</td>\n",
       "    </tr>\n",
       "    <tr>\n",
       "      <th>187</th>\n",
       "      <td>7.371936</td>\n",
       "      <td>8.599386</td>\n",
       "      <td>7073.237098</td>\n",
       "      <td>1</td>\n",
       "    </tr>\n",
       "  </tbody>\n",
       "</table>\n",
       "<p>188 rows × 4 columns</p>\n",
       "</div>"
      ],
      "text/plain": [
       "      success  viewership   total_votes  michael_presence\n",
       "0    7.487966    4.970529  11555.188407                 1\n",
       "1    8.412917    4.280946   3630.202632                 0\n",
       "2    7.952008   10.527851   1014.080962                 0\n",
       "3    7.017440    4.402080   6865.686729                 0\n",
       "4    7.734210    8.131153    359.982911                 1\n",
       "..        ...         ...           ...               ...\n",
       "183  8.028823    7.281147   5554.161646                 1\n",
       "184  8.532236    6.237242  13597.940086                 0\n",
       "185  8.594325    4.994548   3301.276169                 1\n",
       "186  8.560200    5.145196   3222.623672                 0\n",
       "187  7.371936    8.599386   7073.237098                 1\n",
       "\n",
       "[188 rows x 4 columns]"
      ]
     },
     "execution_count": 32,
     "metadata": {},
     "output_type": "execute_result"
    }
   ],
   "source": [
    "# importing data into a DataFrame \n",
    "success_without_effect = pd.DataFrame({\"success\": success, \n",
    "                         \"viewership\": viewership, \n",
    "                         \"total_votes\": total_votes, \n",
    "                        \"michael_presence\": michael_presence}\n",
    "                         )\n",
    "# dataframe without the regression effect\n",
    "success_without_effect "
   ]
  },
  {
   "cell_type": "code",
   "execution_count": 33,
   "id": "59ef887e-2a7a-480c-ae78-f7fe7e08c40a",
   "metadata": {},
   "outputs": [
    {
     "data": {
      "text/html": [
       "<div>\n",
       "<style scoped>\n",
       "    .dataframe tbody tr th:only-of-type {\n",
       "        vertical-align: middle;\n",
       "    }\n",
       "\n",
       "    .dataframe tbody tr th {\n",
       "        vertical-align: top;\n",
       "    }\n",
       "\n",
       "    .dataframe thead th {\n",
       "        text-align: right;\n",
       "    }\n",
       "</style>\n",
       "<table border=\"1\" class=\"dataframe\">\n",
       "  <thead>\n",
       "    <tr style=\"text-align: right;\">\n",
       "      <th></th>\n",
       "      <th>success_modified</th>\n",
       "      <th>viewership</th>\n",
       "      <th>total_votes</th>\n",
       "      <th>michael_presence</th>\n",
       "    </tr>\n",
       "  </thead>\n",
       "  <tbody>\n",
       "    <tr>\n",
       "      <th>0</th>\n",
       "      <td>12.335080</td>\n",
       "      <td>4.970529</td>\n",
       "      <td>11555.188407</td>\n",
       "      <td>1</td>\n",
       "    </tr>\n",
       "    <tr>\n",
       "      <th>1</th>\n",
       "      <td>9.757503</td>\n",
       "      <td>4.280946</td>\n",
       "      <td>3630.202632</td>\n",
       "      <td>0</td>\n",
       "    </tr>\n",
       "    <tr>\n",
       "      <th>2</th>\n",
       "      <td>9.986534</td>\n",
       "      <td>10.527851</td>\n",
       "      <td>1014.080962</td>\n",
       "      <td>0</td>\n",
       "    </tr>\n",
       "    <tr>\n",
       "      <th>3</th>\n",
       "      <td>10.599042</td>\n",
       "      <td>4.402080</td>\n",
       "      <td>6865.686729</td>\n",
       "      <td>0</td>\n",
       "    </tr>\n",
       "    <tr>\n",
       "      <th>4</th>\n",
       "      <td>9.936371</td>\n",
       "      <td>8.131153</td>\n",
       "      <td>359.982911</td>\n",
       "      <td>1</td>\n",
       "    </tr>\n",
       "  </tbody>\n",
       "</table>\n",
       "</div>"
      ],
      "text/plain": [
       "   success_modified  viewership   total_votes  michael_presence\n",
       "0         12.335080    4.970529  11555.188407                 1\n",
       "1          9.757503    4.280946   3630.202632                 0\n",
       "2          9.986534   10.527851   1014.080962                 0\n",
       "3         10.599042    4.402080   6865.686729                 0\n",
       "4          9.936371    8.131153    359.982911                 1"
      ]
     },
     "execution_count": 33,
     "metadata": {},
     "output_type": "execute_result"
    }
   ],
   "source": [
    "# additional column for the success with the beta effect\n",
    "success_without_effect['success_modified'] = imdb_rating_mean + (0.14334054*viewership) + (0.00025473*total_votes) + (0.46*michael_presence)\n",
    "# selecting the relevant columns\n",
    "success_with_effect = success_without_effect[['success_modified', 'viewership', 'total_votes', 'michael_presence']]\n",
    "success_with_effect.head()"
   ]
  },
  {
   "cell_type": "markdown",
   "id": "bd0fec62-931b-41ce-96b1-2c95ffcc5f25",
   "metadata": {},
   "source": [
    "## References\n",
    "1. Heiss, A. (2020, November 4). The ultimate guide to generating synthetic data for causal inference. Program Evaluation. Retrieved December 11, 2021, from https://evalf20.classes.andrewheiss.com/example/synthetic-data/\n",
    "2. Brownlee, J. (2020, January 10). How to Generate Test Datasets in Python with scikit-learn. Machine Learning Mastery. Retrieved December 11, 2021, from https://machinelearningmastery.com/generate-test-datasets-python-scikit-learn/\n",
    "3. The Office Dataset. (2020, September 8). Kaggle. Retrieved December 12, 2021, from https://www.kaggle.com/nehaprabhavalkar/the-office-dataset\n",
    "4. The Office (US) - Complete Dialogue/Transcript. (2021, January 18). Kaggle. Retrieved December 12, 2021, from https://www.kaggle.com/nasirkhalid24/the-office-us-complete-dialoguetranscript\n",
    "5. The Office Episodes Data. (2021, November 8). Kaggle. Retrieved December 12, 2021, from https://www.kaggle.com/bcruise/the-office-episodes-data\n",
    "6. Frost, J. (2021, November 18). How to Identify the Distribution of Your Data. Statistics By Jim. Retrieved December 18, 2021, from https://statisticsbyjim.com/hypothesis-testing/identify-distribution-data/\n",
    "7. P. (2021, January 4). Pandas - Merge DataFrames on Multiple Columns. Data Science Parichay. Retrieved December 21, 2021, from https://datascienceparichay.com/article/pandas-merge-dataframes-on-multiple-columns/\n",
    "8. pandas.DataFrame.merge — pandas 1.3.5 documentation. (n.d.). Pandas. Retrieved December 21, 2021, from https://pandas.pydata.org/docs/reference/api/pandas.DataFrame.merge.html\n",
    "9. Merge, join, concatenate and compare — pandas 1.3.5 documentation. (n.d.). Pandas. Retrieved December 21, 2021, from https://pandas.pydata.org/docs/user_guide/merging.html#merging\n",
    "10. pandas.Series.fillna — pandas 1.3.5 documentation. (n.d.). Pandas. Retrieved December 23, 2021, from https://pandas.pydata.org/docs/reference/api/pandas.Series.fillna.html\n",
    "11. Set y axis limit in Pandas histogram. (2016, July 17). Stack Overflow. Retrieved December 23, 2021, from https://stackoverflow.com/questions/38424459/set-y-axis-limit-in-pandas-histogram\n",
    "12. Li, L. (2019, February 5). Introduction to Linear Regression in Python - Towards Data Science. Medium. Retrieved December 23, 2021, from https://towardsdatascience.com/introduction-to-linear-regression-in-python-c12a072bedf0\n",
    "13. Linear Regression With Python scikit Learn | GreyCampus. (2021, October 12). GreyCampus. Retrieved December 23, 2021, from https://www.greycampus.com/blog/data-science/linear-regression-with-python-scikit-learn\n",
    "14. numpy.power — NumPy v1.21 Manual. (n.d.). NumPy. Retrieved December 24, 2021, from https://numpy.org/doc/stable/reference/generated/numpy.power.html\n",
    "15. How to randomly append “Yes/No” (ratio of 7:3) to a column in pandas dataframe? (2016, May 19). Stack Overflow. Retrieved December 24, 2021, from https://stackoverflow.com/questions/37331127/how-to-randomly-append-yes-no-ratio-of-73-to-a-column-in-pandas-dataframe\n",
    "16. GeeksforGeeks. (2020, July 28). Replace the column contains the values “yes” and “no” with True and False In Python-Pandas. Retrieved December 25, 2021, from https://www.geeksforgeeks.org/replace-the-column-contains-the-values-yes-and-no-with-true-and-false-in-python-pandas/"
   ]
  },
  {
   "cell_type": "markdown",
   "id": "6dd9782c-242a-4e29-9dcb-89c067890247",
   "metadata": {},
   "source": [
    "## End"
   ]
  }
 ],
 "metadata": {
  "kernelspec": {
   "display_name": "Python 3",
   "language": "python",
   "name": "python3"
  },
  "language_info": {
   "codemirror_mode": {
    "name": "ipython",
    "version": 3
   },
   "file_extension": ".py",
   "mimetype": "text/x-python",
   "name": "python",
   "nbconvert_exporter": "python",
   "pygments_lexer": "ipython3",
   "version": "3.8.8"
  }
 },
 "nbformat": 4,
 "nbformat_minor": 5
}
